{
 "cells": [
  {
   "cell_type": "markdown",
   "metadata": {},
   "source": [
    "## Method"
   ]
  },
  {
   "cell_type": "code",
   "execution_count": 1,
   "metadata": {},
   "outputs": [
    {
     "name": "stdout",
     "output_type": "stream",
     "text": [
      "40\n"
     ]
    }
   ],
   "source": [
    "#we will be discussing about class and methods \n",
    "#Methods are section or set of programming statement dedicated to carry out a function\n",
    "#Example 1\n",
    "def Multiplier(age):\n",
    "    print(age*2)\n",
    "#The name of the method here is #Multiplier with a single parameter\n",
    "#age is called parameter, the represents value that are passed in.\n",
    "Multiplier(20)"
   ]
  },
  {
   "cell_type": "code",
   "execution_count": 3,
   "metadata": {},
   "outputs": [
    {
     "name": "stdout",
     "output_type": "stream",
     "text": [
      "The mean of [2, 3, 4, 5, 6, 7, 8, 4, 2, 5, 6] is 4.7272727272727275\n"
     ]
    }
   ],
   "source": [
    "#A method cannot only excute some statements but can also return value\n",
    "#Example 2\n",
    "#In the method below, nums is the parameter with the datatype \"List\"\n",
    "def FindMean(nums):\n",
    "    total=0\n",
    "    #iterates over the list supplied\n",
    "    for a in nums:\n",
    "        total+=a\n",
    "    meanVal=total/len(nums)\n",
    "    return meanVal\n",
    "nums=[2,3,4,5,6,7,8,4,2,5,6]\n",
    "#The evaluated mean value get returned to the variable meanReceived\n",
    "meanReceived=FindMean(nums)\n",
    "print(\"The mean of {0} is {1}\".format(nums,meanReceived))\n",
    "#If you can remeber the print format I introduced in the class, I used that here."
   ]
  },
  {
   "cell_type": "code",
   "execution_count": 4,
   "metadata": {},
   "outputs": [
    {
     "name": "stdout",
     "output_type": "stream",
     "text": [
      "The mean of [2, 3, 4, 5, 6, 7, 8, 4, 2, 5, 6] is 4.7272727272727275\n"
     ]
    }
   ],
   "source": [
    "#A little digression,The above problem can actually be solve using a library actually\n",
    "import numpy as np\n",
    "nums=[2,3,4,5,6,7,8,4,2,5,6]\n",
    "meanEvaluated=np.mean(nums)\n",
    "print(\"The mean of {0} is {1}\".format(nums,meanEvaluated))\n",
    "#I actually used the approach in the former kernel to explain that a method can return a value\n",
    "#you can pass any value of any datatype as parameter to the method\n",
    "#As you can see here, a list was passed to the method"
   ]
  },
  {
   "cell_type": "markdown",
   "metadata": {},
   "source": [
    "## Assignment\n",
    "\n",
    "Write a method that collects the scores of a students as a dictionary, with the coursecodes as keys and the score as values, this method should calculate the GPA of the student forthat semester asssuming all courses are 3 units, the number courses may vary. The GPA for the semester should be returned.\n",
    "-------Ensure you put enough comments for clarity.--------"
   ]
  },
  {
   "cell_type": "code",
   "execution_count": null,
   "metadata": {},
   "outputs": [],
   "source": []
  }
 ],
 "metadata": {
  "kernelspec": {
   "display_name": "Python 3",
   "language": "python",
   "name": "python3"
  },
  "language_info": {
   "codemirror_mode": {
    "name": "ipython",
    "version": 3
   },
   "file_extension": ".py",
   "mimetype": "text/x-python",
   "name": "python",
   "nbconvert_exporter": "python",
   "pygments_lexer": "ipython3",
   "version": "3.6.5"
  }
 },
 "nbformat": 4,
 "nbformat_minor": 2
}
