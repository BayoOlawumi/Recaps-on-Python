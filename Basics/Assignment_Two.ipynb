{
 "cells": [
  {
   "cell_type": "code",
   "execution_count": 22,
   "metadata": {},
   "outputs": [
    {
     "name": "stdout",
     "output_type": "stream",
     "text": [
      "Enter a postive integer 128\n",
      "The integer entered is a power of 2\n"
     ]
    }
   ],
   "source": [
    "#A program to check if a positive integer value is a power of 2\n",
    "val=raw_input(\"Enter a postive integer \")\n",
    "import math\n",
    "try:\n",
    "    num=int(val)\n",
    "    evaluated=math.log(num)/math.log(2)\n",
    "    trimmed=round(evaluated)\n",
    "    if(math.pow(2,trimmed) == num):\n",
    "        print(\"The integer entered is a power of 2\")\n",
    "    else:\n",
    "        print(\"The integer entered is not a power of 2\")\n",
    "except:\n",
    "    print(\"Invalid raw_input supplied\")"
   ]
  },
  {
   "cell_type": "code",
   "execution_count": 33,
   "metadata": {},
   "outputs": [
    {
     "name": "stdout",
     "output_type": "stream",
     "text": [
      "Enter value34\n",
      "Enter value2\n",
      "Enter value3\n",
      "Enter value4\n",
      "[2, 3, 4, 34]\n"
     ]
    }
   ],
   "source": [
    "#Write a program that accepts six(6) numbers and sorts them in descending order\n",
    "list_num=[]\n",
    "try:\n",
    "    for a in range(4):\n",
    "        val=raw_input(\"Enter value \")\n",
    "        list_num.append(val)\n",
    "    list_num=list(map(int,list_num))\n",
    "    list_num.sort()\n",
    "    print(list_num)\n",
    "except:\n",
    "    print(\"Invalid input\")"
   ]
  },
  {
   "cell_type": "markdown",
   "metadata": {},
   "source": []
  },
  {
   "cell_type": "code",
   "execution_count": 2,
   "metadata": {},
   "outputs": [
    {
     "name": "stdout",
     "output_type": "stream",
     "text": [
      "Enter a sentence 3 eggs in 2 baskets\n",
      " The sum of numeric values in this sentence is:  5\n",
      "5\n"
     ]
    }
   ],
   "source": [
    "#Write a program that sum all numeric values in a sentence\n",
    "#Sample sentence: 3 eggs in 2 baskets, the output will be 5\n",
    "try:\n",
    "    sentence=raw_input(\"Enter a sentence \")\n",
    "    sent_split=sentence.split()\n",
    "    sum_all=0\n",
    "    for a in sent_split:\n",
    "        checkint=len(a)\n",
    "        countint=0\n",
    "        for b in a:\n",
    "            if(b.isdigit()):\n",
    "                countint+=1  \n",
    "        if(checkint==countint):\n",
    "            sum_all=sum_all+int(a)\n",
    "    print(\" The sum of numeric values in this sentence is: \",sum_all) \n",
    "    print(sum_all)\n",
    "except:\n",
    "    print(\"Invalid Input\")"
   ]
  },
  {
   "cell_type": "code",
   "execution_count": 6,
   "metadata": {},
   "outputs": [
    {
     "name": "stdout",
     "output_type": "stream",
     "text": [
      "Enter value 5\n",
      "Enter value 6\n",
      "Enter value 7\n",
      "Enter value 8\n",
      "The sum of the modulo 2 of the four numbers are : 2\n"
     ]
    }
   ],
   "source": [
    "#write a program to calculate the sum of the modulus of four integer numbers\n",
    "try:\n",
    "    sum_of_all=0\n",
    "    for a in range(4):\n",
    "        val=raw_input(\"Enter value \")\n",
    "        sum_of_all=sum_of_all+int(val)%2\n",
    "    print(\"The sum of the modulo 2 of the four numbers are :\", sum_of_all)\n",
    "except:\n",
    "    print(\"Invalid supply\")"
   ]
  },
  {
   "cell_type": "code",
   "execution_count": null,
   "metadata": {},
   "outputs": [],
   "source": []
  },
  {
   "cell_type": "code",
   "execution_count": null,
   "metadata": {},
   "outputs": [],
   "source": []
  }
 ],
 "metadata": {
  "kernelspec": {
   "display_name": "Python 3",
   "language": "python",
   "name": "python3"
  },
  "language_info": {
   "codemirror_mode": {
    "name": "ipython",
    "version": 3
   },
   "file_extension": ".py",
   "mimetype": "text/x-python",
   "name": "python",
   "nbconvert_exporter": "python",
   "pygments_lexer": "ipython3",
   "version": "3.6.5"
  }
 },
 "nbformat": 4,
 "nbformat_minor": 2
}
