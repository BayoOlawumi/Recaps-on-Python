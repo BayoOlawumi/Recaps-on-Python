{
 "cells": [
  {
   "cell_type": "code",
   "execution_count": 6,
   "metadata": {},
   "outputs": [
    {
     "name": "stdout",
     "output_type": "stream",
     "text": [
      "Enter the number you want to check. 97\n",
      "This number is a prime number\n"
     ]
    }
   ],
   "source": [
    "\"\"\"A positive whole number n >2 is prime if no number between 2 and √ n \n",
    "(inclusive) evenly divides n. Write a program that accepts a value of n as input \n",
    "and determines if the value is prime. If n is not prime, your program should quit as \n",
    "soon as it finds a value that evenly divides n\"\"\"\n",
    "import math\n",
    "try:\n",
    "    n=input(\"Enter the number you want to check. \")\n",
    "    number=int(n)\n",
    "    #The code below only function when the number entered is greater than 2\n",
    "    if(number>2):\n",
    "        counter=0\n",
    "        #The sum of factor is being initiated\n",
    "        for eachnum in range(2,number):\n",
    "            if(number % eachnum==0):\n",
    "                counter+=1\n",
    "                \"\"\"The loop iterates between 2 and the number before the input\n",
    "                It adds to variable counter if it is a factor of number\n",
    "                When there is even division.\"\"\"\n",
    "        if(counter==0):\n",
    "            print(\"This number is a prime number\")\n",
    "           \n",
    "        else:\n",
    "            print(\"This number is not a prime number\")\n",
    "       \n",
    "except:\n",
    "    print(\"Please enter a real number greater than 2\")\n"
   ]
  },
  {
   "cell_type": "code",
   "execution_count": null,
   "metadata": {},
   "outputs": [],
   "source": []
  },
  {
   "cell_type": "code",
   "execution_count": null,
   "metadata": {},
   "outputs": [],
   "source": []
  },
  {
   "cell_type": "code",
   "execution_count": null,
   "metadata": {},
   "outputs": [],
   "source": []
  },
  {
   "cell_type": "code",
   "execution_count": null,
   "metadata": {},
   "outputs": [],
   "source": []
  }
 ],
 "metadata": {
  "kernelspec": {
   "display_name": "Python 3",
   "language": "python",
   "name": "python3"
  },
  "language_info": {
   "codemirror_mode": {
    "name": "ipython",
    "version": 3
   },
   "file_extension": ".py",
   "mimetype": "text/x-python",
   "name": "python",
   "nbconvert_exporter": "python",
   "pygments_lexer": "ipython3",
   "version": "3.6.5"
  }
 },
 "nbformat": 4,
 "nbformat_minor": 2
}
