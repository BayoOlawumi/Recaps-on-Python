{
 "cells": [
  {
   "cell_type": "code",
   "execution_count": 1,
   "metadata": {},
   "outputs": [
    {
     "name": "stdout",
     "output_type": "stream",
     "text": [
      "13\n"
     ]
    }
   ],
   "source": [
    "#Multline Statements\n",
    "#You use the backlash to continue statement\n",
    "a=2+3\\\n",
    "+4+4\n",
    "print(a)"
   ]
  },
  {
   "cell_type": "code",
   "execution_count": 2,
   "metadata": {},
   "outputs": [
    {
     "name": "stdout",
     "output_type": "stream",
     "text": [
      "45\n",
      "34\n",
      "23\n",
      "4\n",
      "5\n"
     ]
    }
   ],
   "source": [
    "#Multiple Statements\n",
    "#You can assign statement\n",
    "a,b,c=45,34,23\n",
    "print(a)\n",
    "print(b)\n",
    "print(c)\n",
    "d=4;e=5\n",
    "print(d)\n",
    "print(e)"
   ]
  },
  {
   "cell_type": "code",
   "execution_count": 5,
   "metadata": {},
   "outputs": [
    {
     "name": "stdout",
     "output_type": "stream",
     "text": [
      "Mr Olawumi is 29 years old\n",
      "Mr 29 is Olawumi years old\n"
     ]
    }
   ],
   "source": [
    "#python input and output\n",
    "name=\"Olawumi\"\n",
    "age=29\n",
    "print(\"Mr {0} is {1} years old\".format(name,age))\n",
    "print(\"Mr {1} is {0} years old\".format(name,age))\n"
   ]
  },
  {
   "cell_type": "code",
   "execution_count": 4,
   "metadata": {},
   "outputs": [
    {
     "name": "stdout",
     "output_type": "stream",
     "text": [
      "Mr Olawumi is 25 years old\n"
     ]
    }
   ],
   "source": [
    "#python input and output\n",
    "print(\"Mr {name} is {age} years old\".format(name='Olawumi',age=25))"
   ]
  },
  {
   "cell_type": "code",
   "execution_count": 28,
   "metadata": {},
   "outputs": [
    {
     "name": "stdout",
     "output_type": "stream",
     "text": [
      "0.5\n",
      "0\n"
     ]
    }
   ],
   "source": [
    "#Operators\n",
    "#Basic\n",
    "x,y=10,20\n",
    "div=x/y\n",
    "print(div)\n",
    "flr=x//y\n",
    "print(flr)\n",
    "#This operator gets the floor division of x and y, return the nearest whole number\n",
    "#There are many more mathematical/basic operators\n",
    "#******************************************************#\n",
    "\n",
    "\n"
   ]
  },
  {
   "cell_type": "code",
   "execution_count": 29,
   "metadata": {},
   "outputs": [
    {
     "name": "stdout",
     "output_type": "stream",
     "text": [
      "False\n",
      "True\n"
     ]
    }
   ],
   "source": [
    "#Logical\n",
    "a=True\n",
    "b=False\n",
    "c=a and b\n",
    "print(c)\n",
    "d=a or b\n",
    "print(d)\n",
    "\n",
    "\n"
   ]
  },
  {
   "cell_type": "code",
   "execution_count": 24,
   "metadata": {},
   "outputs": [
    {
     "name": "stdout",
     "output_type": "stream",
     "text": [
      "True\n",
      "True\n"
     ]
    }
   ],
   "source": [
    "#Membership Operator\n",
    "#Checking if an element is a member of a set\n",
    "a=[2,3,5,6,7,7]\n",
    "b=2 in a\n",
    "print(b)\n",
    "d={name:\"Kolapo\", age:2}\n",
    "e=age in d\n",
    "print(e)"
   ]
  },
  {
   "cell_type": "code",
   "execution_count": 30,
   "metadata": {},
   "outputs": [
    {
     "name": "stdout",
     "output_type": "stream",
     "text": [
      "0\n",
      "7\n"
     ]
    }
   ],
   "source": [
    "\n",
    "f,g=3,4\n",
    "#Bitwise \n",
    "#Binary Representation of 3=011 and 4=100\n",
    "h=f&g\n",
    "print(h)\n",
    "i=f|g\n",
    "print(i)\n",
    "\n",
    "\n",
    "\n"
   ]
  },
  {
   "cell_type": "code",
   "execution_count": 31,
   "metadata": {},
   "outputs": [
    {
     "name": "stdout",
     "output_type": "stream",
     "text": [
      "3\n",
      "4\n",
      "16\n"
     ]
    }
   ],
   "source": [
    "#Assignment Operators\n",
    "a=2\n",
    "b=3\n",
    "c=4\n",
    "d=5\n",
    "\n",
    "# a=a+1 is the same as a+=1\n",
    "a=a+1\n",
    "b+=1\n",
    "#It adds 1 to the value of b and storesit inside b\n",
    "print(a)\n",
    "print(b)\n",
    "\n",
    "c**=2\n",
    "print(c)"
   ]
  },
  {
   "cell_type": "code",
   "execution_count": 25,
   "metadata": {},
   "outputs": [
    {
     "name": "stdout",
     "output_type": "stream",
     "text": [
      "False\n"
     ]
    }
   ],
   "source": [
    "#identity Operator\n",
    "#Checking if an element equates another\n",
    "a=4\n",
    "b=5\n",
    "print(a is b)\n"
   ]
  },
  {
   "cell_type": "code",
   "execution_count": 26,
   "metadata": {},
   "outputs": [
    {
     "name": "stdout",
     "output_type": "stream",
     "text": [
      "True\n"
     ]
    }
   ],
   "source": [
    "d=3\n",
    "e=3\n",
    "print(d is e)"
   ]
  },
  {
   "cell_type": "code",
   "execution_count": 27,
   "metadata": {},
   "outputs": [
    {
     "name": "stdout",
     "output_type": "stream",
     "text": [
      "False\n"
     ]
    }
   ],
   "source": [
    "#This identity operator is invalid for complex identifier such as List\n",
    "r=[1,2,3,4,5]\n",
    "t=[1,2,3,4,5]\n",
    "print(r is t)"
   ]
  },
  {
   "cell_type": "code",
   "execution_count": 32,
   "metadata": {},
   "outputs": [
    {
     "ename": "NameError",
     "evalue": "name 'pwd' is not defined",
     "output_type": "error",
     "traceback": [
      "\u001b[1;31m---------------------------------------------------------------------------\u001b[0m",
      "\u001b[1;31mNameError\u001b[0m                                 Traceback (most recent call last)",
      "\u001b[1;32m<ipython-input-32-a2845846b4c7>\u001b[0m in \u001b[0;36m<module>\u001b[1;34m()\u001b[0m\n\u001b[0;32m      1\u001b[0m \u001b[1;31m#To get your current working directory\u001b[0m\u001b[1;33m\u001b[0m\u001b[1;33m\u001b[0m\u001b[0m\n\u001b[1;32m----> 2\u001b[1;33m \u001b[0mpwd\u001b[0m\u001b[1;33m\u001b[0m\u001b[0m\n\u001b[0m",
      "\u001b[1;31mNameError\u001b[0m: name 'pwd' is not defined"
     ]
    }
   ],
   "source": [
    "#To get your current working directory\n",
    "pwd"
   ]
  },
  {
   "cell_type": "code",
   "execution_count": null,
   "metadata": {},
   "outputs": [],
   "source": []
  }
 ],
 "metadata": {
  "kernelspec": {
   "display_name": "Python 3",
   "language": "python",
   "name": "python3"
  },
  "language_info": {
   "codemirror_mode": {
    "name": "ipython",
    "version": 3
   },
   "file_extension": ".py",
   "mimetype": "text/x-python",
   "name": "python",
   "nbconvert_exporter": "python",
   "pygments_lexer": "ipython3",
   "version": "3.6.5"
  }
 },
 "nbformat": 4,
 "nbformat_minor": 2
}
