{
 "cells": [
  {
   "cell_type": "markdown",
   "metadata": {},
   "source": [
    "# Class\n",
    "A class is like a framework or skeleton for an object, a skeleton will have a space for the eye, the corners, the bones and all that, in short a skeleton actually defines how the body of the object will be like."
   ]
  },
  {
   "cell_type": "code",
   "execution_count": 4,
   "metadata": {},
   "outputs": [
    {
     "name": "stdout",
     "output_type": "stream",
     "text": [
      "The average score of Abayomi with matric number EEE/12/0098 is 71.57142857142857\n"
     ]
    }
   ],
   "source": [
    "#Examples\n",
    "class Student:\n",
    "    def __init__(self,name,matricNo,age,scores):\n",
    "        self.name=name\n",
    "        self.matricNo=matricNo\n",
    "        self.age=age\n",
    "        self.scores=scores\n",
    "    \n",
    "    def scoresAverage(self):\n",
    "        sumVal=0\n",
    "        count=0\n",
    "        for score in self.scores:\n",
    "            sumVal+=float(score)\n",
    "            count=count+1\n",
    "        averageVal=sumVal/count\n",
    "        return averageVal\n",
    "\"This would create first object of Student class\"\n",
    "FirstStd=Student(\"Abayomi\",\"EEE/12/0098\",34,[67,56,76,56,78,90,78])\n",
    "AveragedOutput=FirstStd.scoresAverage()\n",
    "print(\"The average score of {0} with matric number {1} is {2}\".format(FirstStd.name,FirstStd.matricNo,AveragedOutput))\n"
   ]
  },
  {
   "cell_type": "code",
   "execution_count": null,
   "metadata": {},
   "outputs": [],
   "source": []
  }
 ],
 "metadata": {
  "kernelspec": {
   "display_name": "Python 3",
   "language": "python",
   "name": "python3"
  },
  "language_info": {
   "codemirror_mode": {
    "name": "ipython",
    "version": 3
   },
   "file_extension": ".py",
   "mimetype": "text/x-python",
   "name": "python",
   "nbconvert_exporter": "python",
   "pygments_lexer": "ipython3",
   "version": "3.6.5"
  }
 },
 "nbformat": 4,
 "nbformat_minor": 2
}
