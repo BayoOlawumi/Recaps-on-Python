{
 "cells": [
  {
   "cell_type": "code",
   "execution_count": null,
   "metadata": {},
   "outputs": [],
   "source": [
    "\"\"\"A formula for computing Easter in the years 1982–2048, inclusive, is as follows: \n",
    "let a =year%19, b = year%4, C =year%7, d = (19a +24)%30, e = (2b +4c +6d +5)%7. The date of Easter is March = 22 + d +e (which could be in April). Write \n",
    "a program that inputs a year, verifies that it is in the proper range and then prints \n",
    "out the date of Easter that year.\"\"\"\n",
    "\n",
    "try:\n",
    "    Supplied_Input=input(\" Enter a year\")\n",
    "    year=int(Supplied_Input)\n",
    "    if year>=1982 and year<=2048:\n",
    "        a=year%19\n",
    "        b=year%4\n",
    "        c=year%7\n",
    "        d=(19*a + 24)%30\n",
    "        e=(2*b +4*c + 6*d +5)%7\n",
    "        #print(\"The date of Easter is\")\n",
    "        print(d)\n",
    "        print(e)\n",
    "    else:\n",
    "        print (\" Year Supplied is out of range.\")\n",
    "except:\n",
    "    print(\" Wrong value submitted\")"
   ]
  },
  {
   "cell_type": "code",
   "execution_count": null,
   "metadata": {},
   "outputs": [],
   "source": [
    "\"\"\"Write a program that accepts a date in the form month/day/year and outputs \n",
    "whether or not the date is valid. For example 5/24/1962 is valid, but 9/31/2000 is \n",
    "not. (September has only 30 days.)\"\"\"\n",
    "\n",
    "date=input(\"Enter date in the form month/day/year\")\n",
    "month_with_30days=[9,4,6,11]\n",
    "try:\n",
    "     #Split the entered date and convert it to string\n",
    "    date_S=date.split(\"/\")\n",
    "    splitted_date=([int(s) for s in date_S]) \n",
    "    validity=True\n",
    "    #Condition 1, of the date is beyond 31 or the month is beyond 12\n",
    "    if splitted_date[1]>31 or splitted_date[0]>12:\n",
    "        print(\"The date is invalid\")\n",
    "        validity=False\n",
    "    #Condition 2, if the number of days in the months with 30 days is more than 30\n",
    "    if(splitted_date[1] in month_with_30days):\n",
    "        if(splitted_date[1]>30):\n",
    "            print(\"Error with the month, day number invalid\")\n",
    "            validity=False\n",
    "    if(validity!=False):\n",
    "        print(\"The date is valid\")\n",
    "except:\n",
    "    print(\"Date is Invalid\")\n",
    "        "
   ]
  }
 ],
 "metadata": {
  "kernelspec": {
   "display_name": "Python 3",
   "language": "python",
   "name": "python3"
  },
  "language_info": {
   "codemirror_mode": {
    "name": "ipython",
    "version": 3
   },
   "file_extension": ".py",
   "mimetype": "text/x-python",
   "name": "python",
   "nbconvert_exporter": "python",
   "pygments_lexer": "ipython3",
   "version": "3.6.5"
  }
 },
 "nbformat": 4,
 "nbformat_minor": 2
}
